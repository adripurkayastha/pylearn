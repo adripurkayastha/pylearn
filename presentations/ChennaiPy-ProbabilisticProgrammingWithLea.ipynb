{
 "cells": [
  {
   "cell_type": "markdown",
   "metadata": {
    "slideshow": {
     "slide_type": "slide"
    }
   },
   "source": [
    "#Introduction to Lea"
   ]
  },
  {
   "cell_type": "code",
   "execution_count": 79,
   "metadata": {
    "collapsed": true,
    "slideshow": {
     "slide_type": "slide"
    }
   },
   "outputs": [],
   "source": [
    "from lea import *"
   ]
  },
  {
   "cell_type": "code",
   "execution_count": 80,
   "metadata": {
    "collapsed": false,
    "slideshow": {
     "slide_type": "-"
    }
   },
   "outputs": [],
   "source": [
    "# mandatory die example - initilize a die object\n",
    "die = Lea.fromVals(1, 2, 3, 4, 5, 6)"
   ]
  },
  {
   "cell_type": "code",
   "execution_count": 82,
   "metadata": {
    "collapsed": false,
    "slideshow": {
     "slide_type": "-"
    }
   },
   "outputs": [
    {
     "data": {
      "text/plain": [
       "(4, 5, 3, 5, 3, 5, 3, 1, 5, 4, 3, 3, 4, 3, 3, 2, 2, 5, 1, 6)"
      ]
     },
     "execution_count": 82,
     "metadata": {},
     "output_type": "execute_result"
    }
   ],
   "source": [
    "# throw the die a few times\n",
    "die.random(20)"
   ]
  },
  {
   "cell_type": "code",
   "execution_count": 83,
   "metadata": {
    "collapsed": false,
    "slideshow": {
     "slide_type": "-"
    }
   },
   "outputs": [],
   "source": [
    "# mandatory coin toss example - states can be strings!\n",
    "coin = Lea.fromVals('Head', 'Tail')"
   ]
  },
  {
   "cell_type": "code",
   "execution_count": 84,
   "metadata": {
    "collapsed": false,
    "slideshow": {
     "slide_type": "-"
    }
   },
   "outputs": [
    {
     "data": {
      "text/plain": [
       "('Tail',\n",
       " 'Head',\n",
       " 'Head',\n",
       " 'Tail',\n",
       " 'Head',\n",
       " 'Tail',\n",
       " 'Tail',\n",
       " 'Tail',\n",
       " 'Tail',\n",
       " 'Tail')"
      ]
     },
     "execution_count": 84,
     "metadata": {},
     "output_type": "execute_result"
    }
   ],
   "source": [
    "# toss the coin a few times\n",
    "coin.random(10)"
   ]
  },
  {
   "cell_type": "code",
   "execution_count": null,
   "metadata": {
    "collapsed": true,
    "slideshow": {
     "slide_type": "-"
    }
   },
   "outputs": [],
   "source": [
    "# how about a Boolean variable - only True or False ? \n",
    "rain = Lea.boolProb(5, 100)"
   ]
  },
  {
   "cell_type": "code",
   "execution_count": 87,
   "metadata": {
    "collapsed": false,
    "slideshow": {
     "slide_type": "-"
    }
   },
   "outputs": [
    {
     "data": {
      "text/plain": [
       "(False, False, False, True, False, False, False, False, False, False)"
      ]
     },
     "execution_count": 87,
     "metadata": {},
     "output_type": "execute_result"
    }
   ],
   "source": [
    "# how often does it rain in Chennai ? \n",
    "rain.random(10)"
   ]
  },
  {
   "cell_type": "code",
   "execution_count": 91,
   "metadata": {
    "collapsed": false,
    "slideshow": {
     "slide_type": "-"
    }
   },
   "outputs": [
    {
     "data": {
      "text/plain": [
       "(2.9166666666666665, 2.584962500721156)"
      ]
     },
     "execution_count": 91,
     "metadata": {},
     "output_type": "execute_result"
    }
   ],
   "source": [
    "# How about standard statistics ? \n",
    "#die.mean,\n",
    "#die.mode, \n",
    "die.var, die.entropy"
   ]
  },
  {
   "cell_type": "markdown",
   "metadata": {
    "slideshow": {
     "slide_type": "-"
    }
   },
   "source": [
    "**Summary** \n",
    "\n",
    "Random variables are abstract objects. Transparent method for drawing random samples ``variable.random(times)``. Standard statistical metrics of the probability distribution is also part of the object."
   ]
  },
  {
   "cell_type": "markdown",
   "metadata": {
    "slideshow": {
     "slide_type": "slide"
    }
   },
   "source": [
    "# Coolness - Part 1"
   ]
  },
  {
   "cell_type": "code",
   "execution_count": 35,
   "metadata": {
    "collapsed": true
   },
   "outputs": [],
   "source": [
    "# Lets create two dies\n",
    "die1 = die.clone()\n",
    "die2 = die.clone()"
   ]
  },
  {
   "cell_type": "code",
   "execution_count": 92,
   "metadata": {
    "collapsed": true
   },
   "outputs": [],
   "source": [
    "# Two throws of the die \n",
    "dice = die1 + die2"
   ]
  },
  {
   "cell_type": "code",
   "execution_count": 93,
   "metadata": {
    "collapsed": false
   },
   "outputs": [
    {
     "data": {
      "text/plain": [
       " 2 : 1/36\n",
       " 3 : 2/36\n",
       " 4 : 3/36\n",
       " 5 : 4/36\n",
       " 6 : 5/36\n",
       " 7 : 6/36\n",
       " 8 : 5/36\n",
       " 9 : 4/36\n",
       "10 : 3/36\n",
       "11 : 2/36\n",
       "12 : 1/36"
      ]
     },
     "execution_count": 93,
     "metadata": {},
     "output_type": "execute_result"
    }
   ],
   "source": [
    "dice"
   ]
  },
  {
   "cell_type": "code",
   "execution_count": 94,
   "metadata": {
    "collapsed": false
   },
   "outputs": [
    {
     "data": {
      "text/plain": [
       "(3, 10, 3, 6, 6, 8, 6, 6, 9, 8)"
      ]
     },
     "execution_count": 94,
     "metadata": {},
     "output_type": "execute_result"
    }
   ],
   "source": [
    "dice.random(10)"
   ]
  },
  {
   "cell_type": "code",
   "execution_count": 95,
   "metadata": {
    "collapsed": false
   },
   "outputs": [
    {
     "data": {
      "text/plain": [
       "7.0"
      ]
     },
     "execution_count": 95,
     "metadata": {},
     "output_type": "execute_result"
    }
   ],
   "source": [
    "dice.mean"
   ]
  },
  {
   "cell_type": "code",
   "execution_count": 96,
   "metadata": {
    "collapsed": false
   },
   "outputs": [
    {
     "data": {
      "text/plain": [
       "(7,)"
      ]
     },
     "execution_count": 96,
     "metadata": {},
     "output_type": "execute_result"
    }
   ],
   "source": [
    "dice.mode"
   ]
  },
  {
   "cell_type": "code",
   "execution_count": 41,
   "metadata": {
    "collapsed": false
   },
   "outputs": [
    {
     "name": "stdout",
     "output_type": "stream",
     "text": [
      " 2 :  ---\n",
      " 3 :  ------\n",
      " 4 :  --------\n",
      " 5 :  -----------\n",
      " 6 :  --------------\n",
      " 7 :  -----------------\n",
      " 8 :  --------------\n",
      " 9 :  -----------\n",
      "10 :  --------\n",
      "11 :  ------\n",
      "12 :  ---\n"
     ]
    }
   ],
   "source": [
    "print dice.histo()"
   ]
  },
  {
   "cell_type": "markdown",
   "metadata": {},
   "source": [
    "**Summary** \n",
    "\n",
    "Random variables are abstract objects. Methods are available for operating on them **algebraically**. The probability\n",
    "distributions, methods for drawing random samples, statistical metrics, are transparently propagated."
   ]
  },
  {
   "cell_type": "markdown",
   "metadata": {
    "slideshow": {
     "slide_type": "slide"
    }
   },
   "source": [
    "## Coolness - Part 2"
   ]
  },
  {
   "cell_type": "markdown",
   "metadata": {},
   "source": [
    "> \"You just threw two dice. Can you guess the result ?\""
   ]
  },
  {
   "cell_type": "markdown",
   "metadata": {
    "slideshow": {
     "slide_type": "fragment"
    }
   },
   "source": [
    ">\"Here's a tip : the sum is less than 6\" "
   ]
  },
  {
   "cell_type": "code",
   "execution_count": 44,
   "metadata": {
    "collapsed": false,
    "slideshow": {
     "slide_type": "subslide"
    }
   },
   "outputs": [
    {
     "data": {
      "text/plain": [
       "2 : 1/15\n",
       "3 : 2/15\n",
       "4 : 3/15\n",
       "5 : 4/15\n",
       "6 : 5/15"
      ]
     },
     "execution_count": 44,
     "metadata": {},
     "output_type": "execute_result"
    }
   ],
   "source": [
    "## We can create a new distribution, conditioned on our state of knowledge : P(sum | sum <= 6)\n",
    "conditionalDice = dice.given(dice<=6)"
   ]
  },
  {
   "cell_type": "code",
   "execution_count": 97,
   "metadata": {
    "collapsed": false,
    "slideshow": {
     "slide_type": "subslide"
    }
   },
   "outputs": [
    {
     "data": {
      "text/plain": [
       "(6,)"
      ]
     },
     "execution_count": 97,
     "metadata": {},
     "output_type": "execute_result"
    }
   ],
   "source": [
    "## What is our best guess for the result of the throw ? \n",
    "conditionalDice.mode"
   ]
  },
  {
   "cell_type": "code",
   "execution_count": 46,
   "metadata": {
    "collapsed": false,
    "slideshow": {
     "slide_type": "subslide"
    }
   },
   "outputs": [
    {
     "data": {
      "text/plain": [
       " 2 : 1/36\n",
       " 3 : 2/36\n",
       " 4 : 3/36\n",
       " 5 : 4/36\n",
       " 6 : 5/36\n",
       " 7 : 6/36\n",
       " 8 : 5/36\n",
       " 9 : 4/36\n",
       "10 : 3/36\n",
       "11 : 2/36\n",
       "12 : 1/36"
      ]
     },
     "execution_count": 46,
     "metadata": {},
     "output_type": "execute_result"
    }
   ],
   "source": [
    "## Conditioning can be done in many ways : suppose we know that the first die came up 3. \n",
    "dice.given(die1 == 3)"
   ]
  },
  {
   "cell_type": "code",
   "execution_count": 49,
   "metadata": {
    "collapsed": false,
    "slideshow": {
     "slide_type": "subslide"
    }
   },
   "outputs": [
    {
     "data": {
      "text/plain": [
       " 2 : 1/36\n",
       " 3 : 2/36\n",
       " 4 : 3/36\n",
       " 5 : 4/36\n",
       " 6 : 5/36\n",
       " 7 : 6/36\n",
       " 8 : 5/36\n",
       " 9 : 4/36\n",
       "10 : 3/36\n",
       "11 : 2/36\n",
       "12 : 1/36"
      ]
     },
     "execution_count": 49,
     "metadata": {},
     "output_type": "execute_result"
    }
   ],
   "source": [
    "## Conditioning can be done in still more ways : suppose we know that **either** of the two dies came up 3\n",
    "dice.given((die1 == 3) | (die2 == 3))"
   ]
  },
  {
   "cell_type": "markdown",
   "metadata": {
    "slideshow": {
     "slide_type": "subslide"
    }
   },
   "source": [
    "**Summary**\n",
    "\n",
    "Conditioning, which is the first step towards inference, is done automatically. A wide variety of conditions can be used. P(A | B) translates to ``a.given(b)`."
   ]
  },
  {
   "cell_type": "markdown",
   "metadata": {
    "slideshow": {
     "slide_type": "slide"
    }
   },
   "source": [
    "## Inference"
   ]
  },
  {
   "cell_type": "markdown",
   "metadata": {},
   "source": [
    "> An entomologist spots what might be a rare subspecies of beetle, due to the pattern on its back. In the rare subspecies, 98% have the pattern, or P(pattern|species = rare) = 98%. In the common subspecies, 5% have the pattern, or P(pattern | species = common) = 5%. The rare subspecies accounts for only 0.1% of the population. How likely is the beetle having the pattern to be rare, or what is P(species=rare|pattern)?\""
   ]
  },
  {
   "cell_type": "code",
   "execution_count": 70,
   "metadata": {
    "collapsed": false
   },
   "outputs": [],
   "source": [
    "# Species is a random variable with states \"common\" and \"rare\", with probabilities determined by the population. Since\n",
    "# are only two states, species states are, equivalently, \"rare\" and \"not rare\". Species can be a Boolean!\n",
    "rare = Lea.boolProb(1,1000)"
   ]
  },
  {
   "cell_type": "code",
   "execution_count": 71,
   "metadata": {
    "collapsed": true
   },
   "outputs": [],
   "source": [
    "# Similarly, pattern is either \"present\" or \"not present\". It too is a Boolean, but, its probability distribution\n",
    "# is conditioned on \"rare\" or \"not rare\"\n",
    "patternIfrare = Lea.boolProb(98, 100)\n",
    "patternIfNotrare = Lea.boolProb(5, 100)"
   ]
  },
  {
   "cell_type": "code",
   "execution_count": 73,
   "metadata": {
    "collapsed": false
   },
   "outputs": [],
   "source": [
    "# Now, lets build the conditional probability table for P(pattern | species)\n",
    "pattern = Lea.buildCPT((rare , patternIfrare), ( ~rare , patternIfNotrare))"
   ]
  },
  {
   "cell_type": "code",
   "execution_count": 74,
   "metadata": {
    "collapsed": false
   },
   "outputs": [
    {
     "data": {
      "text/plain": [
       "False :  1/50\n",
       " True : 49/50"
      ]
     },
     "execution_count": 74,
     "metadata": {},
     "output_type": "execute_result"
    }
   ],
   "source": [
    "# Sanity check : do we get what we put in ? \n",
    "pattern.given(rare)"
   ]
  },
  {
   "cell_type": "code",
   "execution_count": 75,
   "metadata": {
    "collapsed": false
   },
   "outputs": [
    {
     "data": {
      "text/plain": [
       "False : 4995/5093\n",
       " True :   98/5093"
      ]
     },
     "execution_count": 75,
     "metadata": {},
     "output_type": "execute_result"
    }
   ],
   "source": [
    "# Finally, our moment of truth : Bayesian inference - what is P(rare | pattern )? \n",
    "rare.given(pattern)"
   ]
  },
  {
   "cell_type": "code",
   "execution_count": 76,
   "metadata": {
    "collapsed": false
   },
   "outputs": [
    {
     "data": {
      "text/plain": [
       "False : 49951/50000\n",
       " True :    49/50000"
      ]
     },
     "execution_count": 76,
     "metadata": {},
     "output_type": "execute_result"
    }
   ],
   "source": [
    "# And, now some show off : what is the probability of being rare and having a pattern ? \n",
    "rare & pattern"
   ]
  },
  {
   "cell_type": "code",
   "execution_count": 77,
   "metadata": {
    "collapsed": false
   },
   "outputs": [
    {
     "data": {
      "text/plain": [
       "(False, False) : 94905/100000\n",
       " (False, True) :  4995/100000\n",
       " (True, False) :     2/100000\n",
       "  (True, True) :    98/100000"
      ]
     },
     "execution_count": 77,
     "metadata": {},
     "output_type": "execute_result"
    }
   ],
   "source": [
    "# All possible outcomes\n",
    "Lea.cprod(rare,pattern)"
   ]
  },
  {
   "cell_type": "markdown",
   "metadata": {},
   "source": [
    "**Summary**\n",
    "\n",
    "Lea contains all the basic ingredients of a proabilistic programming language. It is an excellent way to learn the **paradigms** of probabilistic programming. The current limitation is that it is limited to **discrete** random variables. For continuous random variables, and more generally, for production use, a more mature and capable tool like **Stan** or **BayesPy** should be used."
   ]
  }
 ],
 "metadata": {
  "kernelspec": {
   "display_name": "Python 2",
   "language": "python",
   "name": "python2"
  },
  "language_info": {
   "codemirror_mode": {
    "name": "ipython",
    "version": 2
   },
   "file_extension": ".py",
   "mimetype": "text/x-python",
   "name": "python",
   "nbconvert_exporter": "python",
   "pygments_lexer": "ipython2",
   "version": "2.7.9"
  }
 },
 "nbformat": 4,
 "nbformat_minor": 0
}
