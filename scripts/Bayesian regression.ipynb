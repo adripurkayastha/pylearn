{
 "cells": [
  {
   "cell_type": "markdown",
   "metadata": {},
   "source": [
    "# Bayesian regression"
   ]
  },
  {
   "cell_type": "markdown",
   "metadata": {},
   "source": [
    "Suppose you are given a graph consisting of $N$ pairs of $\\{x, y\\}$ values, and that the value sof the ordinate $\\{y_i\\}$ are subject to a constant, but unknown, amount of noise $\\sigma$. The task is to fit a set of $M$ parameters $\\{a_j\\}$ so that the $\\{y_i\\}$  can be adequately represented in terms of a set of **basis** functions $\\{f_j(x)\\}$:\n",
    "\n",
    "$$\n",
    "y(x_i) \\approx \\hat y(x_i) = \\sum_{j=1}^M a_j f_j(x_i)\n",
    "$$\n",
    "\n",
    "or: $\\bf{\\hat y} = {\\bf f}\\cdot{\\bf a}$, where ${\\bf f}$ is an $(N\\times M)$ matrix. The functions ${f}$ might, for example, be a set of polynomials, or a Fourier series. \n",
    "\n",
    "---\n",
    "\n",
    "The above statemet by Stephen Gull is from his paper *Bayesian inductive inference and maximum entropy* which we shall follow in this notebook to discuss the Bayesian solution to the problem of **univariate regression**.\n",
    "\n",
    "We start, following Gull, with the task of determining the parameters $\\{a_j\\}$ when $M$ and $\\sigma$ are known in advance. Then, ${\\bf a} = (a_1, a_2, \\ldots, a_M)$ are the uknown parameters to be determined and Bayes theorem gives the probability distribution of the parameters, given the data $D$, to be \n",
    "\n",
    "$$ \n",
    "P({\\bf a}) | D) = \\frac{P(D | {\\bf a}) P({\\bf a})}{\\int P({\\bf a}) | D)d^M a}\n",
    "$$\n",
    "\n",
    "The maximum entropy distribution for the noise is a Gaussian distribution with zero mean and variance $\\sigma^2$. "
   ]
  },
  {
   "cell_type": "code",
   "execution_count": null,
   "metadata": {
    "collapsed": false
   },
   "outputs": [],
   "source": [
    "import numpy as np\n",
    "from matplotlib import pyplot as plt\n",
    "plt.plot(np.random.randn(10))\n",
    "plt.show()"
   ]
  },
  {
   "cell_type": "code",
   "execution_count": null,
   "metadata": {
    "collapsed": true
   },
   "outputs": [],
   "source": []
  }
 ],
 "metadata": {
  "kernelspec": {
   "display_name": "Python 2",
   "language": "python",
   "name": "python2"
  },
  "language_info": {
   "codemirror_mode": {
    "name": "ipython",
    "version": 2
   },
   "file_extension": ".py",
   "mimetype": "text/x-python",
   "name": "python",
   "nbconvert_exporter": "python",
   "pygments_lexer": "ipython2",
   "version": "2.7.9"
  }
 },
 "nbformat": 4,
 "nbformat_minor": 0
}
